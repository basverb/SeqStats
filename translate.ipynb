{
 "metadata": {
  "name": "",
  "signature": "sha256:fbc423d40f9bfdbece3af95d2fc4f48b9fea0a0214f25732812b9ebd09f85012"
 },
 "nbformat": 3,
 "nbformat_minor": 0,
 "worksheets": [
  {
   "cells": [
    {
     "cell_type": "code",
     "collapsed": false,
     "input": [
      "def FASTA(filename):\n",
      "  try:\n",
      "    f = file(filename)\n",
      "  except IOError:                     \n",
      "    print \"The file, %s, does not exist\" % filename\n",
      "    return\n",
      "\n",
      "  order = []\n",
      "  sequences = {}\n",
      "    \n",
      "  for line in f:\n",
      "    if line.startswith('>'):\n",
      "        name = line[1:].rstrip('\\n')\n",
      "        name = name.replace('_', ' ')\n",
      "        order.append(name)\n",
      "        sequences[name] = ''\n",
      "    else:\n",
      "        sequences[name] += line.rstrip('\\n').rstrip('*')\n",
      "            \n",
      "  print \"%d sequence(s) found\" % len(order)\n",
      "  print order\n",
      "  print ('\\n')\n",
      "  print sequences\n",
      "FASTA(\"example.fasta\")"
     ],
     "language": "python",
     "metadata": {},
     "outputs": [
      {
       "output_type": "stream",
       "stream": "stdout",
       "text": [
        "1 sequence(s) found\n",
        "['gi|110559334|gb|DQ681069.1| Shrimp white spot syndrome virus from India VP28 (VP28) gene, complete cds']\n",
        "\n",
        "\n",
        "{'gi|110559334|gb|DQ681069.1| Shrimp white spot syndrome virus from India VP28 (VP28) gene, complete cds': 'ATGGATCTTTCTTTCACTCTTTCGGTCGTGTCGGCCATCCTCGCCATCACTGCTGTGATTGCTGTATTTATTGTGATTTTTAGGTATCACAACACTGTGACCAAGACCATCGAAACCCACACAGACAATATCGAGACAAACATGGATGAAAACCTCCGCATTCCTGTGACTGCTGAGGTTGGATCAGGCTACTTCAAGATGACTGATGTGTCCTTTGACAGCGACACCTTGGGCAAAATCAAGATCCGCAATGGAAAGTCTGATGCACAGATGAAGGAAGAAGATGCGGATCTTGTCATCACTCCCGTGGAGGGCCGAGCACTCGAAGTGACTGTGGGGCAGAATCTCACCTTTGAGGGAACATTCAAGGTGTGGAACAACACATCAAGAAAGATCAACATCACTGGTATGCAGATGGTGCCAAAGATTAACCCATCAAAGGCCTTTGTCGGTAGCTCCAACACCTCCTCCTTCACCCCCGTCTCTATTGATGAGGATGAAGTTGGCACCTTTGTGTGTGGTACCACCTTTGGCGCACCAATTGCAGCTACCGCCGGTGGAAATCTTTTCGACATGTACGTGCACGTCACCTACTCTGGCACTGAGACCGAGTAA'}\n"
       ]
      }
     ],
     "prompt_number": 45
    },
    {
     "cell_type": "code",
     "collapsed": false,
     "input": [],
     "language": "python",
     "metadata": {},
     "outputs": [],
     "prompt_number": 30
    },
    {
     "cell_type": "code",
     "collapsed": false,
     "input": [],
     "language": "python",
     "metadata": {},
     "outputs": [],
     "prompt_number": 29
    },
    {
     "cell_type": "code",
     "collapsed": false,
     "input": [],
     "language": "python",
     "metadata": {},
     "outputs": []
    }
   ],
   "metadata": {}
  }
 ]
}